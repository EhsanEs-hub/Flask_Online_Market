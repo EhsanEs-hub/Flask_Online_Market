{
  "nbformat": 4,
  "nbformat_minor": 0,
  "metadata": {
    "colab": {
      "name": "Untitled0.ipynb",
      "provenance": [],
      "collapsed_sections": [],
      "authorship_tag": "ABX9TyObaWfxsFwE5AHpb75lIVeM",
      "include_colab_link": true
    },
    "kernelspec": {
      "name": "python3",
      "display_name": "Python 3"
    }
  },
  "cells": [
    {
      "cell_type": "markdown",
      "metadata": {
        "id": "view-in-github",
        "colab_type": "text"
      },
      "source": [
        "<a href=\"https://colab.research.google.com/github/EhsanEs-hub/Flask_Online_Market/blob/master/Untitled0.ipynb\" target=\"_parent\"><img src=\"https://colab.research.google.com/assets/colab-badge.svg\" alt=\"Open In Colab\"/></a>"
      ]
    },
    {
      "cell_type": "code",
      "metadata": {
        "id": "yt-NB84EQSX5",
        "colab_type": "code",
        "colab": {}
      },
      "source": [
        "import numpy as np\n",
        "import pandas as pd\n",
        "from pandas import  Series, DataFrame\n",
        "from sklearn.metrics import r2_score\n",
        "import matplotlib.pyplot as plt\n",
        "from scipy import stats\n"
      ],
      "execution_count": 0,
      "outputs": []
    },
    {
      "cell_type": "code",
      "metadata": {
        "id": "8Ajm-fbnz2Gg",
        "colab_type": "code",
        "outputId": "23b348f3-c7b9-49ee-eb75-08fafd5140ab",
        "colab": {
          "base_uri": "https://localhost:8080/",
          "height": 299
        }
      },
      "source": [
        "\n",
        "x = [5,7,8,7,2,17,2,9,4,11,12,9,6]\n",
        "y = [99,86,87,88,111,86,103,87,94,78,77,85,86]\n",
        "\n",
        "slope, intercept, r, p, std_err = stats.linregress(x, y)\n",
        "\n",
        "print(r)\n",
        "\n",
        "def myfunc(x):\n",
        "  return slope * x + intercept\n",
        "\n",
        "speed = myfunc(10)\n",
        "print(speed)\n",
        "\n",
        "mymodel = list(map(myfunc, x))\n",
        "\n",
        "plt.scatter(x, y)\n",
        "plt.plot(x, mymodel)\n",
        "plt.show()"
      ],
      "execution_count": 0,
      "outputs": [
        {
          "output_type": "stream",
          "text": [
            "-0.758591524376155\n",
            "85.59308314937454\n"
          ],
          "name": "stdout"
        },
        {
          "output_type": "display_data",
          "data": {
            "image/png": "[encoded data removed]",
            "text/plain": [
              "<Figure size 432x288 with 1 Axes>"
            ]
          },
          "metadata": {
            "tags": [],
            "needs_background": "light"
          }
        }
      ]
    },
    {
      "cell_type": "markdown",
      "metadata": {
        "id": "zDABN4QDLDPt",
        "colab_type": "text"
      },
      "source": [
        ""
      ]
    },
    {
      "cell_type": "code",
      "metadata": {
        "id": "-OE8RLP60WYn",
        "colab_type": "code",
        "outputId": "f9b56a59-6e4a-4f25-fd8c-8c5729f5c775",
        "colab": {
          "base_uri": "https://localhost:8080/",
          "height": 317
        }
      },
      "source": [
        "import numpy\n",
        "from sklearn.metrics import r2_score\n",
        "import matplotlib.pyplot as plt\n",
        "numpy.random.seed(2)\n",
        "\n",
        "x = numpy.random.normal(3, 1, 100)\n",
        "y = numpy.random.normal(150, 40, 100) / x\n",
        "\n",
        "train_x = x[:80]\n",
        "train_y = y[:80]\n",
        "\n",
        "test_x = x[80:]\n",
        "test_y = y[80:]\n",
        "\n",
        "mymodel = numpy.poly1d(numpy.polyfit(train_x, train_y, 3))\n",
        "\n",
        "myline = numpy.linspace(0, 6, 100)\n",
        "\n",
        "# for 20% of samples:\n",
        "plt.scatter(test_x, test_y)\n",
        "\n",
        "# for 80% of samples:\n",
        "plt.scatter(train_x, train_y)\n",
        "\n",
        "mymodel = numpy.poly1d(numpy.polyfit(train_x, train_y, 4))\n",
        "r2 = r2_score(train_y, mymodel(train_x))\n",
        "print(r2)\n",
        "\n",
        "r2 = r2_score(test_y, mymodel(test_x))\n",
        "print(r2)\n",
        "\n",
        "print(mymodel(5))\n",
        "\n",
        "plt.scatter(x, y)\n",
        "# To draw a line through the data points:\n",
        "plt.plot(myline, mymodel(myline))\n",
        "\n",
        "plt.show()"
      ],
      "execution_count": 0,
      "outputs": [
        {
          "output_type": "stream",
          "text": [
            "0.79886455446298\n",
            "0.8086921460343566\n",
            "22.8796259181172\n"
          ],
          "name": "stdout"
        },
        {
          "output_type": "display_data",
          "data": {
            "image/png": "[encoded data removed]",
            "text/plain": [
              "<Figure size 432x288 with 1 Axes>"
            ]
          },
          "metadata": {
            "tags": [],
            "needs_background": "light"
          }
        }
      ]
    },
    {
      "cell_type": "code",
      "metadata": {
        "id": "l15u5TUBLL8Q",
        "colab_type": "code",
        "outputId": "e0102bd6-be4c-448b-d92f-64c566386652",
        "colab": {
          "base_uri": "https://localhost:8080/",
          "height": 235
        }
      },
      "source": [
        "\n",
        "np.random.seed(25)\n",
        "DF_obj = DataFrame(np.random.rand(36).reshape((6,6)), index=['row 1', 'row 2', 'row 3', 'row 4', 'row 5', 'row 6'], columns=['column 1', 'column 2', 'column 3', 'column 4', 'column 5', 'column 6'])\n",
        "DF_obj"
      ],
      "execution_count": 0,
      "outputs": [
        {
          "output_type": "execute_result",
          "data": {
            "text/html": [
              "<div>\n",
              "<style scoped>\n",
              "    .dataframe tbody tr th:only-of-type {\n",
              "        vertical-align: middle;\n",
              "    }\n",
              "\n",
              "    .dataframe tbody tr th {\n",
              "        vertical-align: top;\n",
              "    }\n",
              "\n",
              "    .dataframe thead th {\n",
              "        text-align: right;\n",
              "    }\n",
              "</style>\n",
              "<table border=\"1\" class=\"dataframe\">\n",
              "  <thead>\n",
              "    <tr style=\"text-align: right;\">\n",
              "      <th></th>\n",
              "      <th>column 1</th>\n",
              "      <th>column 2</th>\n",
              "      <th>column 3</th>\n",
              "      <th>column 4</th>\n",
              "      <th>column 5</th>\n",
              "      <th>column 6</th>\n",
              "    </tr>\n",
              "  </thead>\n",
              "  <tbody>\n",
              "    <tr>\n",
              "      <th>row 1</th>\n",
              "      <td>0.870124</td>\n",
              "      <td>0.582277</td>\n",
              "      <td>0.278839</td>\n",
              "      <td>0.185911</td>\n",
              "      <td>0.411100</td>\n",
              "      <td>0.117376</td>\n",
              "    </tr>\n",
              "    <tr>\n",
              "      <th>row 2</th>\n",
              "      <td>0.684969</td>\n",
              "      <td>0.437611</td>\n",
              "      <td>0.556229</td>\n",
              "      <td>0.367080</td>\n",
              "      <td>0.402366</td>\n",
              "      <td>0.113041</td>\n",
              "    </tr>\n",
              "    <tr>\n",
              "      <th>row 3</th>\n",
              "      <td>0.447031</td>\n",
              "      <td>0.585445</td>\n",
              "      <td>0.161985</td>\n",
              "      <td>0.520719</td>\n",
              "      <td>0.326051</td>\n",
              "      <td>0.699186</td>\n",
              "    </tr>\n",
              "    <tr>\n",
              "      <th>row 4</th>\n",
              "      <td>0.366395</td>\n",
              "      <td>0.836375</td>\n",
              "      <td>0.481343</td>\n",
              "      <td>0.516502</td>\n",
              "      <td>0.383048</td>\n",
              "      <td>0.997541</td>\n",
              "    </tr>\n",
              "    <tr>\n",
              "      <th>row 5</th>\n",
              "      <td>0.514244</td>\n",
              "      <td>0.559053</td>\n",
              "      <td>0.034450</td>\n",
              "      <td>0.719930</td>\n",
              "      <td>0.421004</td>\n",
              "      <td>0.436935</td>\n",
              "    </tr>\n",
              "    <tr>\n",
              "      <th>row 6</th>\n",
              "      <td>0.281701</td>\n",
              "      <td>0.900274</td>\n",
              "      <td>0.669612</td>\n",
              "      <td>0.456069</td>\n",
              "      <td>0.289804</td>\n",
              "      <td>0.525819</td>\n",
              "    </tr>\n",
              "  </tbody>\n",
              "</table>\n",
              "</div>"
            ],
            "text/plain": [
              "       column 1  column 2  column 3  column 4  column 5  column 6\n",
              "row 1  0.870124  0.582277  0.278839  0.185911  0.411100  0.117376\n",
              "row 2  0.684969  0.437611  0.556229  0.367080  0.402366  0.113041\n",
              "row 3  0.447031  0.585445  0.161985  0.520719  0.326051  0.699186\n",
              "row 4  0.366395  0.836375  0.481343  0.516502  0.383048  0.997541\n",
              "row 5  0.514244  0.559053  0.034450  0.719930  0.421004  0.436935\n",
              "row 6  0.281701  0.900274  0.669612  0.456069  0.289804  0.525819"
            ]
          },
          "metadata": {
            "tags": []
          },
          "execution_count": 21
        }
      ]
    },
    {
      "cell_type": "code",
      "metadata": {
        "id": "4gR_u61OStMW",
        "colab_type": "code",
        "outputId": "4bc99891-f47c-445d-823f-8243339a0c33",
        "colab": {
          "base_uri": "https://localhost:8080/",
          "height": 111
        }
      },
      "source": [
        "DF_obj.loc[['row 2', 'row 5'], ['column 3', 'column 6']]"
      ],
      "execution_count": 0,
      "outputs": [
        {
          "output_type": "execute_result",
          "data": {
            "text/html": [
              "<div>\n",
              "<style scoped>\n",
              "    .dataframe tbody tr th:only-of-type {\n",
              "        vertical-align: middle;\n",
              "    }\n",
              "\n",
              "    .dataframe tbody tr th {\n",
              "        vertical-align: top;\n",
              "    }\n",
              "\n",
              "    .dataframe thead th {\n",
              "        text-align: right;\n",
              "    }\n",
              "</style>\n",
              "<table border=\"1\" class=\"dataframe\">\n",
              "  <thead>\n",
              "    <tr style=\"text-align: right;\">\n",
              "      <th></th>\n",
              "      <th>column 3</th>\n",
              "      <th>column 6</th>\n",
              "    </tr>\n",
              "  </thead>\n",
              "  <tbody>\n",
              "    <tr>\n",
              "      <th>row 2</th>\n",
              "      <td>0.556229</td>\n",
              "      <td>0.113041</td>\n",
              "    </tr>\n",
              "    <tr>\n",
              "      <th>row 5</th>\n",
              "      <td>0.034450</td>\n",
              "      <td>0.436935</td>\n",
              "    </tr>\n",
              "  </tbody>\n",
              "</table>\n",
              "</div>"
            ],
            "text/plain": [
              "       column 3  column 6\n",
              "row 2  0.556229  0.113041\n",
              "row 5  0.034450  0.436935"
            ]
          },
          "metadata": {
            "tags": []
          },
          "execution_count": 22
        }
      ]
    },
    {
      "cell_type": "code",
      "metadata": {
        "id": "rJw5k0gxZ5rb",
        "colab_type": "code",
        "outputId": "a15ed594-6274-45c5-e870-fa948311ffe2",
        "colab": {
          "base_uri": "https://localhost:8080/",
          "height": 235
        }
      },
      "source": [
        "missing = np.nan\n",
        "DF_obj.loc['row 1':'row 3', 'column 6'] = missing\n",
        "DF_obj.loc['row 2':'row 5', 'column 4'] = missing\n",
        "DF_obj\n"
      ],
      "execution_count": 0,
      "outputs": [
        {
          "output_type": "execute_result",
          "data": {
            "text/html": [
              "<div>\n",
              "<style scoped>\n",
              "    .dataframe tbody tr th:only-of-type {\n",
              "        vertical-align: middle;\n",
              "    }\n",
              "\n",
              "    .dataframe tbody tr th {\n",
              "        vertical-align: top;\n",
              "    }\n",
              "\n",
              "    .dataframe thead th {\n",
              "        text-align: right;\n",
              "    }\n",
              "</style>\n",
              "<table border=\"1\" class=\"dataframe\">\n",
              "  <thead>\n",
              "    <tr style=\"text-align: right;\">\n",
              "      <th></th>\n",
              "      <th>column 1</th>\n",
              "      <th>column 2</th>\n",
              "      <th>column 3</th>\n",
              "      <th>column 4</th>\n",
              "      <th>column 5</th>\n",
              "      <th>column 6</th>\n",
              "    </tr>\n",
              "  </thead>\n",
              "  <tbody>\n",
              "    <tr>\n",
              "      <th>row 1</th>\n",
              "      <td>0.870124</td>\n",
              "      <td>0.582277</td>\n",
              "      <td>0.278839</td>\n",
              "      <td>0.185911</td>\n",
              "      <td>0.411100</td>\n",
              "      <td>NaN</td>\n",
              "    </tr>\n",
              "    <tr>\n",
              "      <th>row 2</th>\n",
              "      <td>0.684969</td>\n",
              "      <td>0.437611</td>\n",
              "      <td>0.556229</td>\n",
              "      <td>NaN</td>\n",
              "      <td>0.402366</td>\n",
              "      <td>NaN</td>\n",
              "    </tr>\n",
              "    <tr>\n",
              "      <th>row 3</th>\n",
              "      <td>NaN</td>\n",
              "      <td>0.585445</td>\n",
              "      <td>0.161985</td>\n",
              "      <td>NaN</td>\n",
              "      <td>0.326051</td>\n",
              "      <td>NaN</td>\n",
              "    </tr>\n",
              "    <tr>\n",
              "      <th>row 4</th>\n",
              "      <td>NaN</td>\n",
              "      <td>0.836375</td>\n",
              "      <td>0.481343</td>\n",
              "      <td>NaN</td>\n",
              "      <td>0.383048</td>\n",
              "      <td>NaN</td>\n",
              "    </tr>\n",
              "    <tr>\n",
              "      <th>row 5</th>\n",
              "      <td>NaN</td>\n",
              "      <td>0.559053</td>\n",
              "      <td>0.034450</td>\n",
              "      <td>NaN</td>\n",
              "      <td>0.421004</td>\n",
              "      <td>0.436935</td>\n",
              "    </tr>\n",
              "    <tr>\n",
              "      <th>row 6</th>\n",
              "      <td>0.281701</td>\n",
              "      <td>0.900274</td>\n",
              "      <td>0.669612</td>\n",
              "      <td>0.456069</td>\n",
              "      <td>0.289804</td>\n",
              "      <td>0.525819</td>\n",
              "    </tr>\n",
              "  </tbody>\n",
              "</table>\n",
              "</div>"
            ],
            "text/plain": [
              "       column 1  column 2  column 3  column 4  column 5  column 6\n",
              "row 1  0.870124  0.582277  0.278839  0.185911  0.411100       NaN\n",
              "row 2  0.684969  0.437611  0.556229       NaN  0.402366       NaN\n",
              "row 3       NaN  0.585445  0.161985       NaN  0.326051       NaN\n",
              "row 4       NaN  0.836375  0.481343       NaN  0.383048       NaN\n",
              "row 5       NaN  0.559053  0.034450       NaN  0.421004  0.436935\n",
              "row 6  0.281701  0.900274  0.669612  0.456069  0.289804  0.525819"
            ]
          },
          "metadata": {
            "tags": []
          },
          "execution_count": 40
        }
      ]
    },
    {
      "cell_type": "code",
      "metadata": {
        "id": "wqqIyk3ufiPy",
        "colab_type": "code",
        "outputId": "7777b915-a8bb-4b53-c726-311b0ef87378",
        "colab": {
          "base_uri": "https://localhost:8080/",
          "height": 235
        }
      },
      "source": [
        "filled_DF = DF_obj.fillna(0)\n",
        "filled_DF"
      ],
      "execution_count": 0,
      "outputs": [
        {
          "output_type": "execute_result",
          "data": {
            "text/html": [
              "<div>\n",
              "<style scoped>\n",
              "    .dataframe tbody tr th:only-of-type {\n",
              "        vertical-align: middle;\n",
              "    }\n",
              "\n",
              "    .dataframe tbody tr th {\n",
              "        vertical-align: top;\n",
              "    }\n",
              "\n",
              "    .dataframe thead th {\n",
              "        text-align: right;\n",
              "    }\n",
              "</style>\n",
              "<table border=\"1\" class=\"dataframe\">\n",
              "  <thead>\n",
              "    <tr style=\"text-align: right;\">\n",
              "      <th></th>\n",
              "      <th>column 1</th>\n",
              "      <th>column 2</th>\n",
              "      <th>column 3</th>\n",
              "      <th>column 4</th>\n",
              "      <th>column 5</th>\n",
              "      <th>column 6</th>\n",
              "    </tr>\n",
              "  </thead>\n",
              "  <tbody>\n",
              "    <tr>\n",
              "      <th>row 1</th>\n",
              "      <td>0.870124</td>\n",
              "      <td>0.582277</td>\n",
              "      <td>0.278839</td>\n",
              "      <td>0.185911</td>\n",
              "      <td>0.411100</td>\n",
              "      <td>0.000000</td>\n",
              "    </tr>\n",
              "    <tr>\n",
              "      <th>row 2</th>\n",
              "      <td>0.684969</td>\n",
              "      <td>0.437611</td>\n",
              "      <td>0.556229</td>\n",
              "      <td>0.000000</td>\n",
              "      <td>0.402366</td>\n",
              "      <td>0.000000</td>\n",
              "    </tr>\n",
              "    <tr>\n",
              "      <th>row 3</th>\n",
              "      <td>0.000000</td>\n",
              "      <td>0.585445</td>\n",
              "      <td>0.161985</td>\n",
              "      <td>0.000000</td>\n",
              "      <td>0.326051</td>\n",
              "      <td>0.000000</td>\n",
              "    </tr>\n",
              "    <tr>\n",
              "      <th>row 4</th>\n",
              "      <td>0.000000</td>\n",
              "      <td>0.836375</td>\n",
              "      <td>0.481343</td>\n",
              "      <td>0.000000</td>\n",
              "      <td>0.383048</td>\n",
              "      <td>0.000000</td>\n",
              "    </tr>\n",
              "    <tr>\n",
              "      <th>row 5</th>\n",
              "      <td>0.000000</td>\n",
              "      <td>0.559053</td>\n",
              "      <td>0.034450</td>\n",
              "      <td>0.000000</td>\n",
              "      <td>0.421004</td>\n",
              "      <td>0.436935</td>\n",
              "    </tr>\n",
              "    <tr>\n",
              "      <th>row 6</th>\n",
              "      <td>0.281701</td>\n",
              "      <td>0.900274</td>\n",
              "      <td>0.669612</td>\n",
              "      <td>0.456069</td>\n",
              "      <td>0.289804</td>\n",
              "      <td>0.525819</td>\n",
              "    </tr>\n",
              "  </tbody>\n",
              "</table>\n",
              "</div>"
            ],
            "text/plain": [
              "       column 1  column 2  column 3  column 4  column 5  column 6\n",
              "row 1  0.870124  0.582277  0.278839  0.185911  0.411100  0.000000\n",
              "row 2  0.684969  0.437611  0.556229  0.000000  0.402366  0.000000\n",
              "row 3  0.000000  0.585445  0.161985  0.000000  0.326051  0.000000\n",
              "row 4  0.000000  0.836375  0.481343  0.000000  0.383048  0.000000\n",
              "row 5  0.000000  0.559053  0.034450  0.000000  0.421004  0.436935\n",
              "row 6  0.281701  0.900274  0.669612  0.456069  0.289804  0.525819"
            ]
          },
          "metadata": {
            "tags": []
          },
          "execution_count": 41
        }
      ]
    },
    {
      "cell_type": "code",
      "metadata": {
        "id": "o_rYeqOIj0Kc",
        "colab_type": "code",
        "outputId": "2df3a021-abd1-4a2b-97be-67105eb504e9",
        "colab": {
          "base_uri": "https://localhost:8080/",
          "height": 235
        }
      },
      "source": [
        "filled_DF = DF_obj.fillna({'column 4':205, 'column 6':304})\n",
        "filled_DF"
      ],
      "execution_count": 0,
      "outputs": [
        {
          "output_type": "execute_result",
          "data": {
            "text/html": [
              "<div>\n",
              "<style scoped>\n",
              "    .dataframe tbody tr th:only-of-type {\n",
              "        vertical-align: middle;\n",
              "    }\n",
              "\n",
              "    .dataframe tbody tr th {\n",
              "        vertical-align: top;\n",
              "    }\n",
              "\n",
              "    .dataframe thead th {\n",
              "        text-align: right;\n",
              "    }\n",
              "</style>\n",
              "<table border=\"1\" class=\"dataframe\">\n",
              "  <thead>\n",
              "    <tr style=\"text-align: right;\">\n",
              "      <th></th>\n",
              "      <th>column 1</th>\n",
              "      <th>column 2</th>\n",
              "      <th>column 3</th>\n",
              "      <th>column 4</th>\n",
              "      <th>column 5</th>\n",
              "      <th>column 6</th>\n",
              "    </tr>\n",
              "  </thead>\n",
              "  <tbody>\n",
              "    <tr>\n",
              "      <th>row 1</th>\n",
              "      <td>0.870124</td>\n",
              "      <td>0.582277</td>\n",
              "      <td>0.278839</td>\n",
              "      <td>0.185911</td>\n",
              "      <td>0.411100</td>\n",
              "      <td>304.000000</td>\n",
              "    </tr>\n",
              "    <tr>\n",
              "      <th>row 2</th>\n",
              "      <td>0.684969</td>\n",
              "      <td>0.437611</td>\n",
              "      <td>0.556229</td>\n",
              "      <td>205.000000</td>\n",
              "      <td>0.402366</td>\n",
              "      <td>304.000000</td>\n",
              "    </tr>\n",
              "    <tr>\n",
              "      <th>row 3</th>\n",
              "      <td>NaN</td>\n",
              "      <td>0.585445</td>\n",
              "      <td>0.161985</td>\n",
              "      <td>205.000000</td>\n",
              "      <td>0.326051</td>\n",
              "      <td>304.000000</td>\n",
              "    </tr>\n",
              "    <tr>\n",
              "      <th>row 4</th>\n",
              "      <td>NaN</td>\n",
              "      <td>0.836375</td>\n",
              "      <td>0.481343</td>\n",
              "      <td>205.000000</td>\n",
              "      <td>0.383048</td>\n",
              "      <td>304.000000</td>\n",
              "    </tr>\n",
              "    <tr>\n",
              "      <th>row 5</th>\n",
              "      <td>NaN</td>\n",
              "      <td>0.559053</td>\n",
              "      <td>0.034450</td>\n",
              "      <td>205.000000</td>\n",
              "      <td>0.421004</td>\n",
              "      <td>0.436935</td>\n",
              "    </tr>\n",
              "    <tr>\n",
              "      <th>row 6</th>\n",
              "      <td>0.281701</td>\n",
              "      <td>0.900274</td>\n",
              "      <td>0.669612</td>\n",
              "      <td>0.456069</td>\n",
              "      <td>0.289804</td>\n",
              "      <td>0.525819</td>\n",
              "    </tr>\n",
              "  </tbody>\n",
              "</table>\n",
              "</div>"
            ],
            "text/plain": [
              "       column 1  column 2  column 3    column 4  column 5    column 6\n",
              "row 1  0.870124  0.582277  0.278839    0.185911  0.411100  304.000000\n",
              "row 2  0.684969  0.437611  0.556229  205.000000  0.402366  304.000000\n",
              "row 3       NaN  0.585445  0.161985  205.000000  0.326051  304.000000\n",
              "row 4       NaN  0.836375  0.481343  205.000000  0.383048  304.000000\n",
              "row 5       NaN  0.559053  0.034450  205.000000  0.421004    0.436935\n",
              "row 6  0.281701  0.900274  0.669612    0.456069  0.289804    0.525819"
            ]
          },
          "metadata": {
            "tags": []
          },
          "execution_count": 42
        }
      ]
    },
    {
      "cell_type": "code",
      "metadata": {
        "id": "t2C3JCPHlnZa",
        "colab_type": "code",
        "outputId": "302cb7cc-baea-4c89-d3c5-67feb2218fd0",
        "colab": {
          "base_uri": "https://localhost:8080/",
          "height": 235
        }
      },
      "source": [
        "filled_DF = DF_obj.fillna(method='ffill')\n",
        "filled_DF"
      ],
      "execution_count": 0,
      "outputs": [
        {
          "output_type": "execute_result",
          "data": {
            "text/html": [
              "<div>\n",
              "<style scoped>\n",
              "    .dataframe tbody tr th:only-of-type {\n",
              "        vertical-align: middle;\n",
              "    }\n",
              "\n",
              "    .dataframe tbody tr th {\n",
              "        vertical-align: top;\n",
              "    }\n",
              "\n",
              "    .dataframe thead th {\n",
              "        text-align: right;\n",
              "    }\n",
              "</style>\n",
              "<table border=\"1\" class=\"dataframe\">\n",
              "  <thead>\n",
              "    <tr style=\"text-align: right;\">\n",
              "      <th></th>\n",
              "      <th>column 1</th>\n",
              "      <th>column 2</th>\n",
              "      <th>column 3</th>\n",
              "      <th>column 4</th>\n",
              "      <th>column 5</th>\n",
              "      <th>column 6</th>\n",
              "    </tr>\n",
              "  </thead>\n",
              "  <tbody>\n",
              "    <tr>\n",
              "      <th>row 1</th>\n",
              "      <td>0.870124</td>\n",
              "      <td>0.582277</td>\n",
              "      <td>0.278839</td>\n",
              "      <td>0.185911</td>\n",
              "      <td>0.411100</td>\n",
              "      <td>NaN</td>\n",
              "    </tr>\n",
              "    <tr>\n",
              "      <th>row 2</th>\n",
              "      <td>0.684969</td>\n",
              "      <td>0.437611</td>\n",
              "      <td>0.556229</td>\n",
              "      <td>0.185911</td>\n",
              "      <td>0.402366</td>\n",
              "      <td>NaN</td>\n",
              "    </tr>\n",
              "    <tr>\n",
              "      <th>row 3</th>\n",
              "      <td>0.684969</td>\n",
              "      <td>0.585445</td>\n",
              "      <td>0.161985</td>\n",
              "      <td>0.185911</td>\n",
              "      <td>0.326051</td>\n",
              "      <td>NaN</td>\n",
              "    </tr>\n",
              "    <tr>\n",
              "      <th>row 4</th>\n",
              "      <td>0.684969</td>\n",
              "      <td>0.836375</td>\n",
              "      <td>0.481343</td>\n",
              "      <td>0.185911</td>\n",
              "      <td>0.383048</td>\n",
              "      <td>NaN</td>\n",
              "    </tr>\n",
              "    <tr>\n",
              "      <th>row 5</th>\n",
              "      <td>0.684969</td>\n",
              "      <td>0.559053</td>\n",
              "      <td>0.034450</td>\n",
              "      <td>0.185911</td>\n",
              "      <td>0.421004</td>\n",
              "      <td>0.436935</td>\n",
              "    </tr>\n",
              "    <tr>\n",
              "      <th>row 6</th>\n",
              "      <td>0.281701</td>\n",
              "      <td>0.900274</td>\n",
              "      <td>0.669612</td>\n",
              "      <td>0.456069</td>\n",
              "      <td>0.289804</td>\n",
              "      <td>0.525819</td>\n",
              "    </tr>\n",
              "  </tbody>\n",
              "</table>\n",
              "</div>"
            ],
            "text/plain": [
              "       column 1  column 2  column 3  column 4  column 5  column 6\n",
              "row 1  0.870124  0.582277  0.278839  0.185911  0.411100       NaN\n",
              "row 2  0.684969  0.437611  0.556229  0.185911  0.402366       NaN\n",
              "row 3  0.684969  0.585445  0.161985  0.185911  0.326051       NaN\n",
              "row 4  0.684969  0.836375  0.481343  0.185911  0.383048       NaN\n",
              "row 5  0.684969  0.559053  0.034450  0.185911  0.421004  0.436935\n",
              "row 6  0.281701  0.900274  0.669612  0.456069  0.289804  0.525819"
            ]
          },
          "metadata": {
            "tags": []
          },
          "execution_count": 43
        }
      ]
    },
    {
      "cell_type": "code",
      "metadata": {
        "id": "r1luH0Ihl49K",
        "colab_type": "code",
        "outputId": "0be079a6-4246-4202-9e0d-fdeb246c375e",
        "colab": {
          "base_uri": "https://localhost:8080/",
          "height": 235
        }
      },
      "source": [
        "\n",
        "np.random.seed(25)\n",
        "DF_obj = DataFrame(np.random.rand(36).reshape((6,6)), index=['row 1', 'row 2', 'row 3', 'row 4', 'row 5', 'row 6'], columns=['column 1', 'column 2', 'column 3', 'column 4', 'column 5', 'column 6'])\n",
        "missing = np.nan\n",
        "DF_obj.loc['row 2':'row 4', 'column 6'] = missing\n",
        "DF_obj.loc['row 3':'row 5', 'column 1'] = missing\n",
        "DF_obj\n"
      ],
      "execution_count": 0,
      "outputs": [
        {
          "output_type": "execute_result",
          "data": {
            "text/html": [
              "<div>\n",
              "<style scoped>\n",
              "    .dataframe tbody tr th:only-of-type {\n",
              "        vertical-align: middle;\n",
              "    }\n",
              "\n",
              "    .dataframe tbody tr th {\n",
              "        vertical-align: top;\n",
              "    }\n",
              "\n",
              "    .dataframe thead th {\n",
              "        text-align: right;\n",
              "    }\n",
              "</style>\n",
              "<table border=\"1\" class=\"dataframe\">\n",
              "  <thead>\n",
              "    <tr style=\"text-align: right;\">\n",
              "      <th></th>\n",
              "      <th>column 1</th>\n",
              "      <th>column 2</th>\n",
              "      <th>column 3</th>\n",
              "      <th>column 4</th>\n",
              "      <th>column 5</th>\n",
              "      <th>column 6</th>\n",
              "    </tr>\n",
              "  </thead>\n",
              "  <tbody>\n",
              "    <tr>\n",
              "      <th>row 1</th>\n",
              "      <td>0.870124</td>\n",
              "      <td>0.582277</td>\n",
              "      <td>0.278839</td>\n",
              "      <td>0.185911</td>\n",
              "      <td>0.411100</td>\n",
              "      <td>0.117376</td>\n",
              "    </tr>\n",
              "    <tr>\n",
              "      <th>row 2</th>\n",
              "      <td>0.684969</td>\n",
              "      <td>0.437611</td>\n",
              "      <td>0.556229</td>\n",
              "      <td>0.367080</td>\n",
              "      <td>0.402366</td>\n",
              "      <td>NaN</td>\n",
              "    </tr>\n",
              "    <tr>\n",
              "      <th>row 3</th>\n",
              "      <td>NaN</td>\n",
              "      <td>0.585445</td>\n",
              "      <td>0.161985</td>\n",
              "      <td>0.520719</td>\n",
              "      <td>0.326051</td>\n",
              "      <td>NaN</td>\n",
              "    </tr>\n",
              "    <tr>\n",
              "      <th>row 4</th>\n",
              "      <td>NaN</td>\n",
              "      <td>0.836375</td>\n",
              "      <td>0.481343</td>\n",
              "      <td>0.516502</td>\n",
              "      <td>0.383048</td>\n",
              "      <td>NaN</td>\n",
              "    </tr>\n",
              "    <tr>\n",
              "      <th>row 5</th>\n",
              "      <td>NaN</td>\n",
              "      <td>0.559053</td>\n",
              "      <td>0.034450</td>\n",
              "      <td>0.719930</td>\n",
              "      <td>0.421004</td>\n",
              "      <td>0.436935</td>\n",
              "    </tr>\n",
              "    <tr>\n",
              "      <th>row 6</th>\n",
              "      <td>0.281701</td>\n",
              "      <td>0.900274</td>\n",
              "      <td>0.669612</td>\n",
              "      <td>0.456069</td>\n",
              "      <td>0.289804</td>\n",
              "      <td>0.525819</td>\n",
              "    </tr>\n",
              "  </tbody>\n",
              "</table>\n",
              "</div>"
            ],
            "text/plain": [
              "       column 1  column 2  column 3  column 4  column 5  column 6\n",
              "row 1  0.870124  0.582277  0.278839  0.185911  0.411100  0.117376\n",
              "row 2  0.684969  0.437611  0.556229  0.367080  0.402366       NaN\n",
              "row 3       NaN  0.585445  0.161985  0.520719  0.326051       NaN\n",
              "row 4       NaN  0.836375  0.481343  0.516502  0.383048       NaN\n",
              "row 5       NaN  0.559053  0.034450  0.719930  0.421004  0.436935\n",
              "row 6  0.281701  0.900274  0.669612  0.456069  0.289804  0.525819"
            ]
          },
          "metadata": {
            "tags": []
          },
          "execution_count": 36
        }
      ]
    },
    {
      "cell_type": "code",
      "metadata": {
        "id": "5kxBebkoniCI",
        "colab_type": "code",
        "outputId": "24bfd86a-b630-4921-f714-356923ab71ac",
        "colab": {
          "base_uri": "https://localhost:8080/",
          "height": 235
        }
      },
      "source": [
        "\n",
        "np.random.seed(25)\n",
        "DF2_obj = DataFrame(np.random.rand(36).reshape(6,6))\n",
        "missing = np.nan\n",
        "DF2_obj.loc[2:4, 0] = missing\n",
        "DF2_obj.loc[3:5, 1] = missing\n",
        "DF2_obj\n"
      ],
      "execution_count": 0,
      "outputs": [
        {
          "output_type": "execute_result",
          "data": {
            "text/html": [
              "<div>\n",
              "<style scoped>\n",
              "    .dataframe tbody tr th:only-of-type {\n",
              "        vertical-align: middle;\n",
              "    }\n",
              "\n",
              "    .dataframe tbody tr th {\n",
              "        vertical-align: top;\n",
              "    }\n",
              "\n",
              "    .dataframe thead th {\n",
              "        text-align: right;\n",
              "    }\n",
              "</style>\n",
              "<table border=\"1\" class=\"dataframe\">\n",
              "  <thead>\n",
              "    <tr style=\"text-align: right;\">\n",
              "      <th></th>\n",
              "      <th>0</th>\n",
              "      <th>1</th>\n",
              "      <th>2</th>\n",
              "      <th>3</th>\n",
              "      <th>4</th>\n",
              "      <th>5</th>\n",
              "    </tr>\n",
              "  </thead>\n",
              "  <tbody>\n",
              "    <tr>\n",
              "      <th>0</th>\n",
              "      <td>0.870124</td>\n",
              "      <td>0.582277</td>\n",
              "      <td>0.278839</td>\n",
              "      <td>0.185911</td>\n",
              "      <td>0.411100</td>\n",
              "      <td>0.117376</td>\n",
              "    </tr>\n",
              "    <tr>\n",
              "      <th>1</th>\n",
              "      <td>0.684969</td>\n",
              "      <td>0.437611</td>\n",
              "      <td>0.556229</td>\n",
              "      <td>0.367080</td>\n",
              "      <td>0.402366</td>\n",
              "      <td>0.113041</td>\n",
              "    </tr>\n",
              "    <tr>\n",
              "      <th>2</th>\n",
              "      <td>NaN</td>\n",
              "      <td>0.585445</td>\n",
              "      <td>0.161985</td>\n",
              "      <td>0.520719</td>\n",
              "      <td>0.326051</td>\n",
              "      <td>0.699186</td>\n",
              "    </tr>\n",
              "    <tr>\n",
              "      <th>3</th>\n",
              "      <td>NaN</td>\n",
              "      <td>NaN</td>\n",
              "      <td>0.481343</td>\n",
              "      <td>0.516502</td>\n",
              "      <td>0.383048</td>\n",
              "      <td>0.997541</td>\n",
              "    </tr>\n",
              "    <tr>\n",
              "      <th>4</th>\n",
              "      <td>NaN</td>\n",
              "      <td>NaN</td>\n",
              "      <td>0.034450</td>\n",
              "      <td>0.719930</td>\n",
              "      <td>0.421004</td>\n",
              "      <td>0.436935</td>\n",
              "    </tr>\n",
              "    <tr>\n",
              "      <th>5</th>\n",
              "      <td>0.281701</td>\n",
              "      <td>NaN</td>\n",
              "      <td>0.669612</td>\n",
              "      <td>0.456069</td>\n",
              "      <td>0.289804</td>\n",
              "      <td>0.525819</td>\n",
              "    </tr>\n",
              "  </tbody>\n",
              "</table>\n",
              "</div>"
            ],
            "text/plain": [
              "          0         1         2         3         4         5\n",
              "0  0.870124  0.582277  0.278839  0.185911  0.411100  0.117376\n",
              "1  0.684969  0.437611  0.556229  0.367080  0.402366  0.113041\n",
              "2       NaN  0.585445  0.161985  0.520719  0.326051  0.699186\n",
              "3       NaN       NaN  0.481343  0.516502  0.383048  0.997541\n",
              "4       NaN       NaN  0.034450  0.719930  0.421004  0.436935\n",
              "5  0.281701       NaN  0.669612  0.456069  0.289804  0.525819"
            ]
          },
          "metadata": {
            "tags": []
          },
          "execution_count": 39
        }
      ]
    },
    {
      "cell_type": "code",
      "metadata": {
        "id": "sDPga5vm59Y9",
        "colab_type": "code",
        "outputId": "4ac844b8-f94e-47af-ab65-9bdeef9396ce",
        "colab": {
          "base_uri": "https://localhost:8080/",
          "height": 111
        }
      },
      "source": [
        "DF2_obj.loc[[2, 5], [3, 4]]"
      ],
      "execution_count": 0,
      "outputs": [
        {
          "output_type": "execute_result",
          "data": {
            "text/html": [
              "<div>\n",
              "<style scoped>\n",
              "    .dataframe tbody tr th:only-of-type {\n",
              "        vertical-align: middle;\n",
              "    }\n",
              "\n",
              "    .dataframe tbody tr th {\n",
              "        vertical-align: top;\n",
              "    }\n",
              "\n",
              "    .dataframe thead th {\n",
              "        text-align: right;\n",
              "    }\n",
              "</style>\n",
              "<table border=\"1\" class=\"dataframe\">\n",
              "  <thead>\n",
              "    <tr style=\"text-align: right;\">\n",
              "      <th></th>\n",
              "      <th>3</th>\n",
              "      <th>4</th>\n",
              "    </tr>\n",
              "  </thead>\n",
              "  <tbody>\n",
              "    <tr>\n",
              "      <th>2</th>\n",
              "      <td>0.520719</td>\n",
              "      <td>0.326051</td>\n",
              "    </tr>\n",
              "    <tr>\n",
              "      <th>5</th>\n",
              "      <td>0.456069</td>\n",
              "      <td>0.289804</td>\n",
              "    </tr>\n",
              "  </tbody>\n",
              "</table>\n",
              "</div>"
            ],
            "text/plain": [
              "          3         4\n",
              "2  0.520719  0.326051\n",
              "5  0.456069  0.289804"
            ]
          },
          "metadata": {
            "tags": []
          },
          "execution_count": 53
        }
      ]
    },
    {
      "cell_type": "code",
      "metadata": {
        "id": "_N13wj8FqJ9j",
        "colab_type": "code",
        "outputId": "d1505bd8-732c-4f11-e222-4948aa93bae7",
        "colab": {
          "base_uri": "https://localhost:8080/",
          "height": 136
        }
      },
      "source": [
        "DF2_obj.isnull().sum()"
      ],
      "execution_count": 0,
      "outputs": [
        {
          "output_type": "execute_result",
          "data": {
            "text/plain": [
              "0    3\n",
              "1    3\n",
              "2    0\n",
              "3    0\n",
              "4    0\n",
              "5    0\n",
              "dtype: int64"
            ]
          },
          "metadata": {
            "tags": []
          },
          "execution_count": 46
        }
      ]
    },
    {
      "cell_type": "code",
      "metadata": {
        "id": "_0U5eilA1luE",
        "colab_type": "code",
        "outputId": "204526ca-c961-4987-80ac-19d6bc631c63",
        "colab": {
          "base_uri": "https://localhost:8080/",
          "height": 80
        }
      },
      "source": [
        "DF_no_NaN = DF_obj.dropna()\n",
        "DF_no_NaN"
      ],
      "execution_count": 0,
      "outputs": [
        {
          "output_type": "execute_result",
          "data": {
            "text/html": [
              "<div>\n",
              "<style scoped>\n",
              "    .dataframe tbody tr th:only-of-type {\n",
              "        vertical-align: middle;\n",
              "    }\n",
              "\n",
              "    .dataframe tbody tr th {\n",
              "        vertical-align: top;\n",
              "    }\n",
              "\n",
              "    .dataframe thead th {\n",
              "        text-align: right;\n",
              "    }\n",
              "</style>\n",
              "<table border=\"1\" class=\"dataframe\">\n",
              "  <thead>\n",
              "    <tr style=\"text-align: right;\">\n",
              "      <th></th>\n",
              "      <th>column 1</th>\n",
              "      <th>column 2</th>\n",
              "      <th>column 3</th>\n",
              "      <th>column 4</th>\n",
              "      <th>column 5</th>\n",
              "      <th>column 6</th>\n",
              "    </tr>\n",
              "  </thead>\n",
              "  <tbody>\n",
              "    <tr>\n",
              "      <th>row 6</th>\n",
              "      <td>0.281701</td>\n",
              "      <td>0.900274</td>\n",
              "      <td>0.669612</td>\n",
              "      <td>0.456069</td>\n",
              "      <td>0.289804</td>\n",
              "      <td>0.525819</td>\n",
              "    </tr>\n",
              "  </tbody>\n",
              "</table>\n",
              "</div>"
            ],
            "text/plain": [
              "       column 1  column 2  column 3  column 4  column 5  column 6\n",
              "row 6  0.281701  0.900274  0.669612  0.456069  0.289804  0.525819"
            ]
          },
          "metadata": {
            "tags": []
          },
          "execution_count": 47
        }
      ]
    },
    {
      "cell_type": "code",
      "metadata": {
        "id": "wVGpwVev2WlJ",
        "colab_type": "code",
        "outputId": "337ecd18-69ed-4853-f3d9-691f077e57cc",
        "colab": {
          "base_uri": "https://localhost:8080/",
          "height": 235
        }
      },
      "source": [
        "DF_no_NaN = DF_obj.dropna(axis=1)\n",
        "DF_no_NaN"
      ],
      "execution_count": 0,
      "outputs": [
        {
          "output_type": "execute_result",
          "data": {
            "text/html": [
              "<div>\n",
              "<style scoped>\n",
              "    .dataframe tbody tr th:only-of-type {\n",
              "        vertical-align: middle;\n",
              "    }\n",
              "\n",
              "    .dataframe tbody tr th {\n",
              "        vertical-align: top;\n",
              "    }\n",
              "\n",
              "    .dataframe thead th {\n",
              "        text-align: right;\n",
              "    }\n",
              "</style>\n",
              "<table border=\"1\" class=\"dataframe\">\n",
              "  <thead>\n",
              "    <tr style=\"text-align: right;\">\n",
              "      <th></th>\n",
              "      <th>column 2</th>\n",
              "      <th>column 3</th>\n",
              "      <th>column 5</th>\n",
              "    </tr>\n",
              "  </thead>\n",
              "  <tbody>\n",
              "    <tr>\n",
              "      <th>row 1</th>\n",
              "      <td>0.582277</td>\n",
              "      <td>0.278839</td>\n",
              "      <td>0.411100</td>\n",
              "    </tr>\n",
              "    <tr>\n",
              "      <th>row 2</th>\n",
              "      <td>0.437611</td>\n",
              "      <td>0.556229</td>\n",
              "      <td>0.402366</td>\n",
              "    </tr>\n",
              "    <tr>\n",
              "      <th>row 3</th>\n",
              "      <td>0.585445</td>\n",
              "      <td>0.161985</td>\n",
              "      <td>0.326051</td>\n",
              "    </tr>\n",
              "    <tr>\n",
              "      <th>row 4</th>\n",
              "      <td>0.836375</td>\n",
              "      <td>0.481343</td>\n",
              "      <td>0.383048</td>\n",
              "    </tr>\n",
              "    <tr>\n",
              "      <th>row 5</th>\n",
              "      <td>0.559053</td>\n",
              "      <td>0.034450</td>\n",
              "      <td>0.421004</td>\n",
              "    </tr>\n",
              "    <tr>\n",
              "      <th>row 6</th>\n",
              "      <td>0.900274</td>\n",
              "      <td>0.669612</td>\n",
              "      <td>0.289804</td>\n",
              "    </tr>\n",
              "  </tbody>\n",
              "</table>\n",
              "</div>"
            ],
            "text/plain": [
              "       column 2  column 3  column 5\n",
              "row 1  0.582277  0.278839  0.411100\n",
              "row 2  0.437611  0.556229  0.402366\n",
              "row 3  0.585445  0.161985  0.326051\n",
              "row 4  0.836375  0.481343  0.383048\n",
              "row 5  0.559053  0.034450  0.421004\n",
              "row 6  0.900274  0.669612  0.289804"
            ]
          },
          "metadata": {
            "tags": []
          },
          "execution_count": 48
        }
      ]
    }
  ]
}